{
 "cells": [
  {
   "cell_type": "code",
   "execution_count": null,
   "id": "5bd9f99f",
   "metadata": {},
   "outputs": [],
   "source": [
    "pip install rdflib"
   ]
  },
  {
   "cell_type": "code",
   "execution_count": null,
   "id": "fbe62c6a",
   "metadata": {},
   "outputs": [],
   "source": [
    "import rdflib\n",
    "import pandas as pd\n",
    "import spacy"
   ]
  },
  {
   "cell_type": "code",
   "execution_count": null,
   "id": "9fbdeff8",
   "metadata": {},
   "outputs": [],
   "source": [
    "# Load the ontology from an RDF file\n",
    "g = rdflib.Graph()\n",
    "g.parse(\"owlapi.xrdf\", format=\"xml\")\n",
    "\n",
    "# Load the keyphrases from an Excel file\n",
    "keyphrases_df = pd.read_excel(\"KeyPhrases_Chapter16.xlsx\")\n",
    "keyphrases = keyphrases_df[\"Keyword\"].tolist()\n",
    "\n",
    "# Check if any of the keyphrases are already present in the ontology\n",
    "existing_keyphrases = set()\n",
    "for s, p, o in g:\n",
    "    if isinstance(o, rdflib.term.Literal):\n",
    "        existing_keyphrases.add(o.value)\n",
    "\n",
    "new_keyphrases = set(keyphrases) - existing_keyphrases\n",
    "\n",
    "if len(new_keyphrases) == 0:\n",
    "    print(\"No new keyphrases found in the ontology.\")\n",
    "else:\n",
    "    print(\"The following keyphrases were found in the ontology:\")\n",
    "    for keyphrase in new_keyphrases:\n",
    "        print(keyphrase)\n"
   ]
  },
  {
   "cell_type": "code",
   "execution_count": null,
   "id": "1a14ca6d",
   "metadata": {},
   "outputs": [],
   "source": [
    "# Load the ontology from an RDF file\n",
    "g = rdflib.Graph()\n",
    "g.parse(\"owlapi.xrdf\", format=\"xml\")\n",
    "\n",
    "# Load the keyphrases from an Excel file\n",
    "keyphrases_df = pd.read_excel(\"KeyPhrases_aws.xlsx\")\n",
    "keyphrases = keyphrases_df[\"Keyword\"].tolist()\n",
    "\n",
    "# Compute the frequency of each keyphrase in the ontology\n",
    "keyphrase_freq = {}\n",
    "for keyphrase in keyphrases:\n",
    "    freq = sum(1 for s, p, o in g if isinstance(o, rdflib.term.Literal) and keyphrase in o.value)\n",
    "    keyphrase_freq[keyphrase] = freq\n",
    "\n",
    "# Compute the overall ontology enrichment score\n",
    "score = sum(keyphrase_freq.values())\n",
    "\n",
    "print(\"Ontology enrichment score:\", score)\n"
   ]
  },
  {
   "cell_type": "code",
   "execution_count": null,
   "id": "36f5fdf7",
   "metadata": {},
   "outputs": [],
   "source": [
    "# Load the ontology from an RDF file\n",
    "g = rdflib.Graph()\n",
    "g.parse(\"owlapi.xrdf\", format=\"xml\")\n",
    "\n",
    "# Load the keyphrases from an Excel file\n",
    "keyphrases_df = pd.read_excel(\"KeyPhrases_tf-idf.xlsx\")\n",
    "keyphrases = keyphrases_df[\"Keyword\"].tolist()\n",
    "\n",
    "# Compute the frequency of each keyphrase in the ontology\n",
    "keyphrase_freq = {}\n",
    "for keyphrase in keyphrases:\n",
    "    freq = sum(1 for s, p, o in g if isinstance(o, rdflib.term.Literal) and keyphrase in o.value)\n",
    "    keyphrase_freq[keyphrase] = freq\n",
    "\n",
    "# Compute the overall ontology enrichment score\n",
    "score = sum(keyphrase_freq.values())\n",
    "\n",
    "print(\"Ontology enrichment score:\", score)\n"
   ]
  },
  {
   "cell_type": "code",
   "execution_count": null,
   "id": "142a657f",
   "metadata": {},
   "outputs": [],
   "source": [
    "# Load the ontology from an RDF file\n",
    "g = rdflib.Graph()\n",
    "g.parse(\"owlapi.xrdf\", format=\"xml\")\n",
    "\n",
    "# Load the keyphrases from an Excel file\n",
    "keyphrases_df = pd.read_excel(\"KeyPhrases_yake.xlsx\")\n",
    "keyphrases = keyphrases_df[\"Keyword\"].tolist()\n",
    "\n",
    "# Compute the frequency of each keyphrase in the ontology\n",
    "keyphrase_freq = {}\n",
    "for keyphrase in keyphrases:\n",
    "    freq = sum(1 for s, p, o in g if isinstance(o, rdflib.term.Literal) and keyphrase in o.value)\n",
    "    keyphrase_freq[keyphrase] = freq\n",
    "\n",
    "# Compute the overall ontology enrichment score\n",
    "score = sum(keyphrase_freq.values())\n",
    "\n",
    "print(\"Ontology enrichment score:\", score)\n"
   ]
  },
  {
   "cell_type": "code",
   "execution_count": null,
   "id": "2d781d17",
   "metadata": {},
   "outputs": [],
   "source": [
    "import matplotlib.pyplot as plt\n",
    "\n",
    "# Define the keyphrases and their scores\n",
    "keyphrases = [\"Amazon Comprehend\", \"TF-IDF\", \"Yake\"]\n",
    "scores = [9414, 5765, 304]\n",
    "\n",
    "# Create the bar chart\n",
    "plt.bar(keyphrases, scores, color=['#E74C3C', '#3498DB', '#2ECC71'])\n",
    "\n",
    "# Set the chart title and axis labels\n",
    "plt.title(\"Ontology Enrichment Scores\")\n",
    "plt.xlabel(\"Methodologies\")\n",
    "plt.ylabel(\"Scores\")\n",
    "\n",
    "# Show the chart\n",
    "plt.show()\n"
   ]
  },
  {
   "cell_type": "code",
   "execution_count": null,
   "id": "93cff9b5",
   "metadata": {},
   "outputs": [],
   "source": []
  }
 ],
 "metadata": {
  "kernelspec": {
   "display_name": "Python 3 (ipykernel)",
   "language": "python",
   "name": "python3"
  },
  "language_info": {
   "codemirror_mode": {
    "name": "ipython",
    "version": 3
   },
   "file_extension": ".py",
   "mimetype": "text/x-python",
   "name": "python",
   "nbconvert_exporter": "python",
   "pygments_lexer": "ipython3",
   "version": "3.9.13"
  }
 },
 "nbformat": 4,
 "nbformat_minor": 5
}
