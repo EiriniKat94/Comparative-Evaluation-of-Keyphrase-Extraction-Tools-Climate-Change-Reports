{
 "cells": [
  {
   "cell_type": "code",
   "execution_count": null,
   "id": "e5eae33f",
   "metadata": {},
   "outputs": [],
   "source": [
    "import pandas as pd\n",
    "from wordcloud import WordCloud\n",
    "import matplotlib.pyplot as plt"
   ]
  },
  {
   "cell_type": "code",
   "execution_count": null,
   "id": "bc7d2737",
   "metadata": {},
   "outputs": [],
   "source": [
    "# Load the Excel file and do it for all the 3 Keyphrases_ we have\n",
    "df = pd.read_excel('keywords_yake.xlsx')\n",
    "\n",
    "# Drop duplicate keywords\n",
    "df.drop_duplicates(subset=['Keyword'], keep='first', inplace=True)\n",
    "\n",
    "# Sort the DataFrame by score in descending order\n",
    "df_sorted = df.sort_values('Score', ascending=False)\n",
    "\n",
    "# Get the top 20 unique keywords and their scores as a dictionary\n",
    "top_keywords_dict = dict(zip(df_sorted['Keyword'].head(20), df_sorted['Score'].head(20)))\n",
    "\n",
    "# Create a WordCloud object\n",
    "wordcloud = WordCloud(width=800, height=800, background_color='white')\n",
    "\n",
    "# Generate the word cloud from the dictionary\n",
    "wordcloud.generate_from_frequencies(top_keywords_dict)\n",
    "\n",
    "# Display the word cloud\n",
    "plt.figure(figsize=(8, 8))\n",
    "plt.imshow(wordcloud, interpolation='bilinear')\n",
    "plt.axis('off')\n",
    "plt.show()"
   ]
  },
  {
   "cell_type": "code",
   "execution_count": null,
   "id": "f2565b8f",
   "metadata": {},
   "outputs": [],
   "source": []
  }
 ],
 "metadata": {
  "kernelspec": {
   "display_name": "Python 3 (ipykernel)",
   "language": "python",
   "name": "python3"
  },
  "language_info": {
   "codemirror_mode": {
    "name": "ipython",
    "version": 3
   },
   "file_extension": ".py",
   "mimetype": "text/x-python",
   "name": "python",
   "nbconvert_exporter": "python",
   "pygments_lexer": "ipython3",
   "version": "3.9.13"
  }
 },
 "nbformat": 4,
 "nbformat_minor": 5
}
