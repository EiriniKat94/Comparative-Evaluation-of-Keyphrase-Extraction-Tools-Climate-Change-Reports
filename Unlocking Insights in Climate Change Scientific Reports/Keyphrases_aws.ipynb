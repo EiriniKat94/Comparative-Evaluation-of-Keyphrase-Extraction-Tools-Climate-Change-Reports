{
 "cells": [
  {
   "cell_type": "code",
   "execution_count": null,
   "id": "71b3f029",
   "metadata": {},
   "outputs": [],
   "source": [
    "import pandas as pd"
   ]
  },
  {
   "cell_type": "code",
   "execution_count": null,
   "id": "4fec63f7",
   "metadata": {},
   "outputs": [],
   "source": [
    "import json"
   ]
  },
  {
   "cell_type": "code",
   "execution_count": null,
   "id": "b227ad4e",
   "metadata": {},
   "outputs": [],
   "source": [
    "# Set the path to the txt file\n",
    "json_path = \"/Users/pazita/Desktop/amazon comprehend/Keyphrases/KeyPhrases_Chapter16.json\"\n",
    "\n",
    "# Read the JSON data from the file\n",
    "with open(json_path, \"r\") as f:\n",
    "    data = json.load(f)\n",
    "\n",
    "# Create empty lists to hold the values\n",
    "file_values = []\n",
    "begin_offset_values = []\n",
    "end_offset_values = []\n",
    "score_values = []\n",
    "text_values = []\n",
    "\n",
    "# Extract the values and add them to the lists\n",
    "for item in data[\"KeyPhrases\"]:\n",
    "    file_values.append(data[\"File\"])\n",
    "    begin_offset_values.append(item.get(\"BeginOffset\", None))\n",
    "    end_offset_values.append(item.get(\"EndOffset\", None))\n",
    "    score_values.append(item.get(\"Score\", None))\n",
    "    text_values.append(item.get(\"Text\", None))\n",
    "\n",
    "# Create a pandas dataframe with the values\n",
    "df = pd.DataFrame({\"File\": file_values,\n",
    "                   \"BeginOffset\": begin_offset_values,\n",
    "                   \"EndOffset\": end_offset_values,\n",
    "                   \"Score\": score_values,\n",
    "                   \"Text\": text_values})\n",
    "\n",
    "# Print the dataframe\n",
    "print(df)"
   ]
  },
  {
   "cell_type": "code",
   "execution_count": null,
   "id": "80fc8d01",
   "metadata": {},
   "outputs": [],
   "source": [
    "len(df)"
   ]
  },
  {
   "cell_type": "code",
   "execution_count": null,
   "id": "94f55f09",
   "metadata": {},
   "outputs": [],
   "source": [
    "# Set the path to the output Excel file\n",
    "excel_path = \"/Users/pazita/Desktop/amazon comprehend/Keyphrases/KeyPhrases_Chapter16.xlsx\"\n",
    "\n",
    "# Save the DataFrame to the Excel file\n",
    "df.to_excel(excel_path, index=False)\n"
   ]
  },
  {
   "cell_type": "code",
   "execution_count": null,
   "id": "8c37eaa2",
   "metadata": {},
   "outputs": [],
   "source": []
  }
 ],
 "metadata": {
  "kernelspec": {
   "display_name": "Python 3 (ipykernel)",
   "language": "python",
   "name": "python3"
  },
  "language_info": {
   "codemirror_mode": {
    "name": "ipython",
    "version": 3
   },
   "file_extension": ".py",
   "mimetype": "text/x-python",
   "name": "python",
   "nbconvert_exporter": "python",
   "pygments_lexer": "ipython3",
   "version": "3.9.13"
  }
 },
 "nbformat": 4,
 "nbformat_minor": 5
}
