{
 "cells": [
  {
   "cell_type": "code",
   "execution_count": null,
   "id": "25a7457d",
   "metadata": {},
   "outputs": [],
   "source": [
    "from sklearn.metrics.pairwise import cosine_similarity\n",
    "from sklearn.feature_extraction.text import TfidfVectorizer\n"
   ]
  },
  {
   "cell_type": "code",
   "execution_count": null,
   "id": "162ffe81",
   "metadata": {},
   "outputs": [],
   "source": [
    "import rdflib\n",
    "import pandas as pd\n",
    "import spacy"
   ]
  },
  {
   "cell_type": "code",
   "execution_count": null,
   "id": "6ac9e09a",
   "metadata": {},
   "outputs": [],
   "source": [
    "# Load the ontology from an RDF file\n",
    "g = rdflib.Graph()\n",
    "g.parse(\"owlapi.xrdf\", format=\"xml\")\n",
    "\n",
    "# Load the keyphrases from an Excel file\n",
    "keyphrases_df = pd.read_excel(\"KeyPhrases_Chapter16.xlsx\")\n",
    "keyphrases = keyphrases_df[\"Keyword\"].tolist()\n",
    "\n",
    "# Preprocess keyphrases and ontology triples for similarity calculation\n",
    "keyphrases_text = ' '.join(keyphrases)\n",
    "ontology_text = ' '.join([str(o) for s, p, o in g if isinstance(o, rdflib.term.Literal)])\n",
    "\n",
    "# Compute the TF-IDF vectors for keyphrases and ontology\n",
    "vectorizer = TfidfVectorizer()\n",
    "tfidf_matrix = vectorizer.fit_transform([keyphrases_text, ontology_text])\n",
    "\n",
    "# Compute the cosine similarity between keyphrases and ontology\n",
    "similarity_score = cosine_similarity(tfidf_matrix[0], tfidf_matrix[1])[0][0]\n",
    "\n",
    "print(\"Similarity score:\", similarity_score)\n"
   ]
  },
  {
   "cell_type": "code",
   "execution_count": null,
   "id": "5246df7c",
   "metadata": {},
   "outputs": [],
   "source": [
    "# Load the ontology from an RDF file\n",
    "g = rdflib.Graph()\n",
    "g.parse(\"owlapi.xrdf\", format=\"xml\")\n",
    "\n",
    "# Load the keyphrases from an Excel file\n",
    "keyphrases_df = pd.read_excel(\"KeyPhrases_aws.xlsx\")\n",
    "keyphrases = keyphrases_df[\"Keyword\"].tolist()\n",
    "\n",
    "# Preprocess keyphrases and ontology triples for similarity calculation\n",
    "keyphrases_text = ' '.join(keyphrases)\n",
    "ontology_text = ' '.join([str(o) for s, p, o in g if isinstance(o, rdflib.term.Literal)])\n",
    "\n",
    "# Compute the TF-IDF vectors for keyphrases and ontology\n",
    "vectorizer = TfidfVectorizer()\n",
    "tfidf_matrix = vectorizer.fit_transform([keyphrases_text, ontology_text])\n",
    "\n",
    "# Compute the cosine similarity between keyphrases and ontology\n",
    "similarity_score = cosine_similarity(tfidf_matrix[0], tfidf_matrix[1])[0][0]\n",
    "\n",
    "print(\"Similarity score:\", similarity_score)"
   ]
  },
  {
   "cell_type": "code",
   "execution_count": null,
   "id": "085a50a8",
   "metadata": {},
   "outputs": [],
   "source": [
    "# Load the ontology from an RDF file\n",
    "g = rdflib.Graph()\n",
    "g.parse(\"owlapi.xrdf\", format=\"xml\")\n",
    "\n",
    "# Load the keyphrases from an Excel file\n",
    "keyphrases_df = pd.read_excel(\"Keyphrases_tf-idf.xlsx\")\n",
    "keyphrases = keyphrases_df[\"Keyword\"].tolist()\n",
    "\n",
    "# Preprocess keyphrases and ontology triples for similarity calculation\n",
    "keyphrases_text = ' '.join(keyphrases)\n",
    "ontology_text = ' '.join([str(o) for s, p, o in g if isinstance(o, rdflib.term.Literal)])\n",
    "\n",
    "# Compute the TF-IDF vectors for keyphrases and ontology\n",
    "vectorizer = TfidfVectorizer()\n",
    "tfidf_matrix = vectorizer.fit_transform([keyphrases_text, ontology_text])\n",
    "\n",
    "# Compute the cosine similarity between keyphrases and ontology\n",
    "similarity_score = cosine_similarity(tfidf_matrix[0], tfidf_matrix[1])[0][0]\n",
    "\n",
    "print(\"Similarity score:\", similarity_score)"
   ]
  },
  {
   "cell_type": "code",
   "execution_count": null,
   "id": "df403301",
   "metadata": {},
   "outputs": [],
   "source": [
    "# Load the ontology from an RDF file\n",
    "g = rdflib.Graph()\n",
    "g.parse(\"SweetAllKatsadaki_final.rdf\", format=\"xml\")\n",
    "\n",
    "# Load the keyphrases from an Excel file\n",
    "keyphrases_df = pd.read_excel(\"Keyphrases_yake.xlsx\")\n",
    "keyphrases = keyphrases_df[\"Keyword\"].tolist()\n",
    "\n",
    "# Preprocess keyphrases and ontology triples for similarity calculation\n",
    "keyphrases_text = ' '.join(keyphrases)\n",
    "ontology_text = ' '.join([str(o) for s, p, o in g if isinstance(o, rdflib.term.Literal)])\n",
    "\n",
    "# Compute the TF-IDF vectors for keyphrases and ontology\n",
    "vectorizer = TfidfVectorizer()\n",
    "tfidf_matrix = vectorizer.fit_transform([keyphrases_text, ontology_text])\n",
    "\n",
    "# Compute the cosine similarity between keyphrases and ontology\n",
    "similarity_score = cosine_similarity(tfidf_matrix[0], tfidf_matrix[1])[0][0]\n",
    "\n",
    "print(\"Similarity score:\", similarity_score)"
   ]
  },
  {
   "cell_type": "code",
   "execution_count": null,
   "id": "aaa5b002",
   "metadata": {},
   "outputs": [],
   "source": []
  }
 ],
 "metadata": {
  "kernelspec": {
   "display_name": "Python 3 (ipykernel)",
   "language": "python",
   "name": "python3"
  },
  "language_info": {
   "codemirror_mode": {
    "name": "ipython",
    "version": 3
   },
   "file_extension": ".py",
   "mimetype": "text/x-python",
   "name": "python",
   "nbconvert_exporter": "python",
   "pygments_lexer": "ipython3",
   "version": "3.9.13"
  }
 },
 "nbformat": 4,
 "nbformat_minor": 5
}
