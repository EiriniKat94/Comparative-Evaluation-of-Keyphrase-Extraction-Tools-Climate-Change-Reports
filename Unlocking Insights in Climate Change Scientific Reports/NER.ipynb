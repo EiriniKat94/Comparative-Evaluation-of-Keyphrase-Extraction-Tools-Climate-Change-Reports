{
 "cells": [
  {
   "cell_type": "code",
   "execution_count": null,
   "id": "1e4670f4",
   "metadata": {},
   "outputs": [],
   "source": [
    "pip install nltk spacy folium\n"
   ]
  },
  {
   "cell_type": "code",
   "execution_count": null,
   "id": "bef2b167",
   "metadata": {},
   "outputs": [],
   "source": [
    "pip install geopy"
   ]
  },
  {
   "cell_type": "code",
   "execution_count": null,
   "id": "b22dbc3d",
   "metadata": {},
   "outputs": [],
   "source": [
    "import nltk\n",
    "import spacy\n",
    "import folium\n",
    "\n",
    "from geopy.geocoders import Nominatim\n",
    "from nltk.tokenize import word_tokenize\n",
    "from spacy import displacy"
   ]
  },
  {
   "cell_type": "code",
   "execution_count": null,
   "id": "8dfc6881",
   "metadata": {},
   "outputs": [],
   "source": [
    "# Initialize NLTK, spaCy, and geocoder\n",
    "nltk.download('punkt')\n",
    "nlp = spacy.load('en_core_web_sm')\n",
    "geolocator = Nominatim(user_agent=\"my_app\")\n",
    "\n",
    "# Read the text file\n",
    "with open('IPCC_AR6_WGII_Chapter16.txt', 'r') as file:\n",
    "    text = file.read()\n",
    "\n",
    "# Tokenize the text into sentences\n",
    "sentences = nltk.sent_tokenize(text)\n"
   ]
  },
  {
   "cell_type": "code",
   "execution_count": null,
   "id": "9e8fd2c2",
   "metadata": {},
   "outputs": [],
   "source": [
    "# Perform NER on each sentence\n",
    "entities = []\n",
    "for sentence in sentences:\n",
    "    doc = nlp(sentence)\n",
    "    entities.extend([(ent.text, ent.label_) for ent in doc.ents if ent.label_ == 'GPE'])\n",
    "\n",
    "# Convert location names to coordinates\n",
    "locations = []\n",
    "for entity in entities:\n",
    "    location_name = entity[0]\n",
    "    location = geolocator.geocode(location_name)\n",
    "    if location:\n",
    "        locations.append((location.latitude, location.longitude))\n",
    "        \n",
    "# Convert location names to coordinates\n",
    "locations = []\n",
    "for entity in entities:\n",
    "    location_name = entity[0]\n",
    "    location = geolocator.geocode(location_name)\n",
    "    if location:\n",
    "        locations.append((location.latitude, location.longitude))\n",
    "\n",
    "# Visualize the locations on a map\n",
    "map = folium.Map()\n",
    "\n",
    "for location in locations:\n",
    "    folium.Marker(location).add_to(map)\n",
    "\n",
    "# Save the map as an HTML file\n",
    "map.save('map.html')\n",
    "\n",
    "# Display the map in a web browser\n",
    "map\n"
   ]
  },
  {
   "cell_type": "code",
   "execution_count": null,
   "id": "ed38733c",
   "metadata": {},
   "outputs": [],
   "source": [
    "# Perform NER on each sentence\n",
    "entities = []\n",
    "for sentence in sentences:\n",
    "    doc = nlp(sentence)\n",
    "    entities.extend([(ent.text, ent.label_) for ent in doc.ents if ent.label_ == 'GPE'])\n",
    "\n",
    "# Extract the location names\n",
    "locations = [entity[0] for entity in entities]\n",
    "\n",
    "# Display the locations\n",
    "for location in locations:\n",
    "    print(location)"
   ]
  },
  {
   "cell_type": "code",
   "execution_count": null,
   "id": "1085a7e1",
   "metadata": {},
   "outputs": [],
   "source": [
    "import pandas as pd"
   ]
  },
  {
   "cell_type": "code",
   "execution_count": null,
   "id": "b301fbe8",
   "metadata": {},
   "outputs": [],
   "source": [
    "# Extract the location names\n",
    "locations = [entity[0] for entity in entities]\n",
    "\n",
    "# Create a DataFrame to store the locations\n",
    "data = {'Location': locations}\n",
    "df = pd.DataFrame(data)\n",
    "\n",
    "# Save the DataFrame to an Excel file\n",
    "df.to_excel('locations.xlsx', index=False)"
   ]
  },
  {
   "cell_type": "code",
   "execution_count": null,
   "id": "88a86087",
   "metadata": {},
   "outputs": [],
   "source": []
  }
 ],
 "metadata": {
  "kernelspec": {
   "display_name": "Python 3 (ipykernel)",
   "language": "python",
   "name": "python3"
  },
  "language_info": {
   "codemirror_mode": {
    "name": "ipython",
    "version": 3
   },
   "file_extension": ".py",
   "mimetype": "text/x-python",
   "name": "python",
   "nbconvert_exporter": "python",
   "pygments_lexer": "ipython3",
   "version": "3.9.13"
  }
 },
 "nbformat": 4,
 "nbformat_minor": 5
}
